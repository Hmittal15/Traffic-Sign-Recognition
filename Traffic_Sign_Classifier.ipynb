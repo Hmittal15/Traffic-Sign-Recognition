{
 "cells": [
  {
   "cell_type": "code",
   "execution_count": 1,
   "id": "86df866a",
   "metadata": {},
   "outputs": [],
   "source": [
    "import numpy as np\n",
    "import pandas as pd\n",
    "import matplotlib.pyplot as plt\n",
    "%matplotlib inline\n",
    "\n",
    "import tensorflow as tf\n",
    "from PIL import Image\n",
    "import os\n",
    "from sklearn.model_selection import train_test_split\n",
    "from keras.utils import to_categorical\n",
    "from keras.models import Sequential\n",
    "from keras.layers import Conv2D, MaxPool2D, Dense, Flatten, Dropout"
   ]
  },
  {
   "cell_type": "code",
   "execution_count": 2,
   "id": "e8a9d62b",
   "metadata": {},
   "outputs": [],
   "source": [
    "data = []\n",
    "labels = []\n",
    "classes = 43 \n",
    "cur_path = os.getcwd() \n",
    "for i in range(classes):\n",
    "    path = os.path.join(cur_path,'Dataset','train', str(i))\n",
    "    images = os.listdir(path)\n",
    "    for a in images:\n",
    "        try:\n",
    "            image = Image.open(path + '/'+ a)\n",
    "            image = image.resize((30,30))\n",
    "            image = np.array(image)\n",
    "            data.append(image)\n",
    "            labels.append(i)\n",
    "        except:\n",
    "            print(\"Error loading image\") \n",
    "data = np.array(data)\n",
    "labels = np.array(labels)"
   ]
  },
  {
   "cell_type": "code",
   "execution_count": 3,
   "id": "9dbceb78",
   "metadata": {},
   "outputs": [
    {
     "name": "stdout",
     "output_type": "stream",
     "text": [
      "(39209, 30, 30, 3) (39209,)\n",
      "(31367, 30, 30, 3) (7842, 30, 30, 3) (31367,) (7842,)\n"
     ]
    }
   ],
   "source": [
    "print(data.shape, labels.shape)\n",
    "#Splitting training and testing dataset\n",
    "X_train, X_test, y_train, y_test = train_test_split(data, labels, test_size=0.2, random_state=10)\n",
    "print(X_train.shape, X_test.shape, y_train.shape, y_test.shape)"
   ]
  },
  {
   "cell_type": "code",
   "execution_count": 4,
   "id": "1e537877",
   "metadata": {},
   "outputs": [],
   "source": [
    "#Converting the labels into one hot encoding\n",
    "y_train = to_categorical(y_train, 43)\n",
    "y_test = to_categorical(y_test, 43)"
   ]
  },
  {
   "cell_type": "code",
   "execution_count": 6,
   "id": "ea07d97c",
   "metadata": {},
   "outputs": [
    {
     "data": {
      "text/html": [
       "<div>\n",
       "<style scoped>\n",
       "    .dataframe tbody tr th:only-of-type {\n",
       "        vertical-align: middle;\n",
       "    }\n",
       "\n",
       "    .dataframe tbody tr th {\n",
       "        vertical-align: top;\n",
       "    }\n",
       "\n",
       "    .dataframe thead th {\n",
       "        text-align: right;\n",
       "    }\n",
       "</style>\n",
       "<table border=\"1\" class=\"dataframe\">\n",
       "  <thead>\n",
       "    <tr style=\"text-align: right;\">\n",
       "      <th></th>\n",
       "      <th>Width</th>\n",
       "      <th>Height</th>\n",
       "      <th>label</th>\n",
       "      <th>Path</th>\n",
       "    </tr>\n",
       "  </thead>\n",
       "  <tbody>\n",
       "    <tr>\n",
       "      <th>0</th>\n",
       "      <td>27</td>\n",
       "      <td>26</td>\n",
       "      <td>20</td>\n",
       "      <td>Train/20/00020_00000_00000.png</td>\n",
       "    </tr>\n",
       "    <tr>\n",
       "      <th>1</th>\n",
       "      <td>28</td>\n",
       "      <td>27</td>\n",
       "      <td>20</td>\n",
       "      <td>Train/20/00020_00000_00001.png</td>\n",
       "    </tr>\n",
       "    <tr>\n",
       "      <th>2</th>\n",
       "      <td>29</td>\n",
       "      <td>26</td>\n",
       "      <td>20</td>\n",
       "      <td>Train/20/00020_00000_00002.png</td>\n",
       "    </tr>\n",
       "    <tr>\n",
       "      <th>3</th>\n",
       "      <td>28</td>\n",
       "      <td>27</td>\n",
       "      <td>20</td>\n",
       "      <td>Train/20/00020_00000_00003.png</td>\n",
       "    </tr>\n",
       "    <tr>\n",
       "      <th>4</th>\n",
       "      <td>28</td>\n",
       "      <td>26</td>\n",
       "      <td>20</td>\n",
       "      <td>Train/20/00020_00000_00004.png</td>\n",
       "    </tr>\n",
       "  </tbody>\n",
       "</table>\n",
       "</div>"
      ],
      "text/plain": [
       "   Width  Height  label                            Path\n",
       "0     27      26     20  Train/20/00020_00000_00000.png\n",
       "1     28      27     20  Train/20/00020_00000_00001.png\n",
       "2     29      26     20  Train/20/00020_00000_00002.png\n",
       "3     28      27     20  Train/20/00020_00000_00003.png\n",
       "4     28      26     20  Train/20/00020_00000_00004.png"
      ]
     },
     "execution_count": 6,
     "metadata": {},
     "output_type": "execute_result"
    }
   ],
   "source": [
    "train_data=pd.read_csv(\"C:\\\\Users\\\\hmitt\\\\OneDrive\\\\Documents\\\\MSIS\\\\Sem_2_Spring_2023\\\\Projects\\\\Traffic-Sign-Recognition\\\\Dataset\\\\Train.csv\" ,usecols=['ClassId','Path','Width','Height'],)\n",
    "test_data=pd.read_csv(\"C:\\\\Users\\\\hmitt\\\\OneDrive\\\\Documents\\\\MSIS\\\\Sem_2_Spring_2023\\\\Projects\\\\Traffic-Sign-Recognition\\\\Dataset\\\\Test.csv\", usecols=['ClassId','Path','Width','Height'],)\n",
    "\n",
    "train_data.rename({'ClassId':'label'},inplace=True,axis=1)\n",
    "test_data.rename({'ClassId':'label'},inplace=True,axis=1)\n",
    "\n",
    "train_data.head()"
   ]
  },
  {
   "cell_type": "code",
   "execution_count": 7,
   "id": "1979594c",
   "metadata": {},
   "outputs": [
    {
     "name": "stdout",
     "output_type": "stream",
     "text": [
      "NO. of classes\n",
      "43\n"
     ]
    }
   ],
   "source": [
    "print('NO. of classes')\n",
    "print(train_data['label'].nunique())"
   ]
  },
  {
   "cell_type": "code",
   "execution_count": 20,
   "id": "4ed5f3eb",
   "metadata": {},
   "outputs": [],
   "source": [
    "#Building the model\n",
    "model = Sequential()\n",
    "\n",
    "# First Layer\n",
    "model.add(Conv2D(filters=32, kernel_size=(5,5), activation='relu', input_shape=X_train.shape[1:]))\n",
    "model.add(Conv2D(filters=32, kernel_size=(5,5), activation='relu'))\n",
    "model.add(MaxPool2D(pool_size=(2, 2)))\n",
    "model.add(Dropout(rate=0.25))\n",
    "\n",
    "# Second Layer \n",
    "model.add(Conv2D(filters=64, kernel_size=(3, 3), activation='relu'))\n",
    "model.add(Conv2D(filters=64, kernel_size=(3, 3), activation='relu'))\n",
    "model.add(MaxPool2D(pool_size=(2, 2)))\n",
    "model.add(Dropout(rate=0.25))\n",
    "\n",
    "\n",
    "# Dense Layer\n",
    "model.add(Flatten())\n",
    "model.add(Dense(256, activation='relu'))\n",
    "model.add(Dropout(rate=0.5))\n",
    "model.add(Dense(43, activation='softmax'))"
   ]
  },
  {
   "cell_type": "code",
   "execution_count": 21,
   "id": "650ce1bf",
   "metadata": {},
   "outputs": [
    {
     "name": "stdout",
     "output_type": "stream",
     "text": [
      "Epoch 1/20\n",
      "491/491 [==============================] - 54s 106ms/step - loss: 2.3506 - accuracy: 0.3984 - val_loss: 0.8850 - val_accuracy: 0.8015\n",
      "Epoch 2/20\n",
      "491/491 [==============================] - 49s 100ms/step - loss: 1.0692 - accuracy: 0.6836 - val_loss: 0.5905 - val_accuracy: 0.8326\n",
      "Epoch 3/20\n",
      "491/491 [==============================] - 72s 148ms/step - loss: 0.8264 - accuracy: 0.7506 - val_loss: 0.3210 - val_accuracy: 0.9153\n",
      "Epoch 4/20\n",
      "491/491 [==============================] - 50s 102ms/step - loss: 0.7099 - accuracy: 0.7869 - val_loss: 0.2492 - val_accuracy: 0.9327\n",
      "Epoch 5/20\n",
      "491/491 [==============================] - 48s 99ms/step - loss: 0.6304 - accuracy: 0.8078 - val_loss: 0.2046 - val_accuracy: 0.9382\n",
      "Epoch 6/20\n",
      "491/491 [==============================] - 50s 101ms/step - loss: 0.5867 - accuracy: 0.8220 - val_loss: 0.1705 - val_accuracy: 0.9546\n",
      "Epoch 7/20\n",
      "491/491 [==============================] - 52s 105ms/step - loss: 0.5506 - accuracy: 0.8347 - val_loss: 0.1701 - val_accuracy: 0.9521\n",
      "Epoch 8/20\n",
      "491/491 [==============================] - 50s 102ms/step - loss: 0.5190 - accuracy: 0.8397 - val_loss: 0.1660 - val_accuracy: 0.9546\n",
      "Epoch 9/20\n",
      "491/491 [==============================] - 50s 102ms/step - loss: 0.5024 - accuracy: 0.8482 - val_loss: 0.1384 - val_accuracy: 0.9644\n",
      "Epoch 10/20\n",
      "491/491 [==============================] - 50s 102ms/step - loss: 0.4878 - accuracy: 0.8521 - val_loss: 0.1850 - val_accuracy: 0.9463\n",
      "Epoch 11/20\n",
      "491/491 [==============================] - 52s 107ms/step - loss: 0.4749 - accuracy: 0.8567 - val_loss: 0.1337 - val_accuracy: 0.9607\n",
      "Epoch 12/20\n",
      "491/491 [==============================] - 50s 102ms/step - loss: 0.4542 - accuracy: 0.8621 - val_loss: 0.1284 - val_accuracy: 0.9634\n",
      "Epoch 13/20\n",
      "491/491 [==============================] - 50s 101ms/step - loss: 0.4490 - accuracy: 0.8648 - val_loss: 0.1340 - val_accuracy: 0.9633\n",
      "Epoch 14/20\n",
      "491/491 [==============================] - 50s 101ms/step - loss: 0.4284 - accuracy: 0.8673 - val_loss: 0.1320 - val_accuracy: 0.9584\n",
      "Epoch 15/20\n",
      "491/491 [==============================] - 51s 103ms/step - loss: 0.4165 - accuracy: 0.8712 - val_loss: 0.1190 - val_accuracy: 0.9680\n",
      "Epoch 16/20\n",
      "491/491 [==============================] - 51s 103ms/step - loss: 0.4230 - accuracy: 0.8713 - val_loss: 0.1016 - val_accuracy: 0.9726\n",
      "Epoch 17/20\n",
      "491/491 [==============================] - 49s 99ms/step - loss: 0.4073 - accuracy: 0.8763 - val_loss: 0.1158 - val_accuracy: 0.9638\n",
      "Epoch 18/20\n",
      "491/491 [==============================] - 62s 127ms/step - loss: 0.4107 - accuracy: 0.8748 - val_loss: 0.1232 - val_accuracy: 0.9660\n",
      "Epoch 19/20\n",
      "491/491 [==============================] - 74s 151ms/step - loss: 0.3828 - accuracy: 0.8826 - val_loss: 0.1114 - val_accuracy: 0.9685\n",
      "Epoch 20/20\n",
      "491/491 [==============================] - 75s 152ms/step - loss: 0.3895 - accuracy: 0.8820 - val_loss: 0.1121 - val_accuracy: 0.9697\n"
     ]
    },
    {
     "name": "stderr",
     "output_type": "stream",
     "text": [
      "C:\\Users\\hmitt\\anaconda3\\envs\\cnn\\lib\\site-packages\\keras\\src\\engine\\training.py:3000: UserWarning: You are saving your model as an HDF5 file via `model.save()`. This file format is considered legacy. We recommend using instead the native Keras format, e.g. `model.save('my_model.keras')`.\n",
      "  saving_api.save_model(\n"
     ]
    }
   ],
   "source": [
    "#Compilation of the model\n",
    "model.compile(loss='categorical_crossentropy', optimizer='adam', metrics=['accuracy'])\n",
    "epochs = 20\n",
    "history = model.fit(X_train, y_train, batch_size=64, epochs=epochs, validation_data=(X_test, y_test))\n",
    "model.save(\"my_model.h5\")"
   ]
  },
  {
   "cell_type": "code",
   "execution_count": 22,
   "id": "2b761769",
   "metadata": {},
   "outputs": [
    {
     "data": {
      "image/png": "[encoded data removed]",
      "text/plain": [
       "<Figure size 640x480 with 1 Axes>"
      ]
     },
     "metadata": {},
     "output_type": "display_data"
    }
   ],
   "source": [
    "#plotting graphs for accuracy \n",
    "plt.plot(history.history['accuracy'], label='training accuracy')\n",
    "plt.plot(history.history['val_accuracy'], label='val accuracy')\n",
    "plt.title('Accuracy')\n",
    "plt.xlabel('epochs')\n",
    "plt.ylabel('accuracy')\n",
    "plt.legend()\n",
    "plt.show()"
   ]
  },
  {
   "cell_type": "code",
   "execution_count": 23,
   "id": "8088d65c",
   "metadata": {},
   "outputs": [
    {
     "name": "stdout",
     "output_type": "stream",
     "text": [
      "246/246 [==============================] - 6s 25ms/step\n"
     ]
    }
   ],
   "source": [
    "y_pred = model.predict(X_test)\n",
    "y_test_class = np.argmax(y_test,axis=1)\n",
    "y_pred_class = np.argmax(y_pred,axis=1)"
   ]
  },
  {
   "cell_type": "code",
   "execution_count": 24,
   "id": "c75101ab",
   "metadata": {},
   "outputs": [
    {
     "data": {
      "text/plain": [
       "0.9696505993369039"
      ]
     },
     "execution_count": 24,
     "metadata": {},
     "output_type": "execute_result"
    }
   ],
   "source": [
    "# Calculate the Accuracy\n",
    "from sklearn.metrics import accuracy_score\n",
    "score=accuracy_score(y_pred_class,y_test_class)\n",
    "score"
   ]
  },
  {
   "cell_type": "code",
   "execution_count": 25,
   "id": "e923b7ab",
   "metadata": {},
   "outputs": [
    {
     "name": "stderr",
     "output_type": "stream",
     "text": [
      "C:\\Users\\hmitt\\anaconda3\\envs\\cnn\\lib\\site-packages\\keras\\src\\engine\\training.py:3000: UserWarning: You are saving your model as an HDF5 file via `model.save()`. This file format is considered legacy. We recommend using instead the native Keras format, e.g. `model.save('my_model.keras')`.\n",
      "  saving_api.save_model(\n"
     ]
    }
   ],
   "source": [
    "model.save('traffic_classifier.h5')"
   ]
  },
  {
   "cell_type": "code",
   "execution_count": null,
   "id": "01c2e7f6",
   "metadata": {},
   "outputs": [],
   "source": []
  }
 ],
 "metadata": {
  "kernelspec": {
   "display_name": "Python 3 (ipykernel)",
   "language": "python",
   "name": "python3"
  },
  "language_info": {
   "codemirror_mode": {
    "name": "ipython",
    "version": 3
   },
   "file_extension": ".py",
   "mimetype": "text/x-python",
   "name": "python",
   "nbconvert_exporter": "python",
   "pygments_lexer": "ipython3",
   "version": "3.10.12"
  }
 },
 "nbformat": 4,
 "nbformat_minor": 5
}
